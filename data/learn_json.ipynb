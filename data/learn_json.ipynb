{
 "cells": [
  {
   "cell_type": "code",
   "execution_count": 2,
   "metadata": {},
   "outputs": [
    {
     "data": {
      "text/plain": [
       "2"
      ]
     },
     "execution_count": 2,
     "metadata": {},
     "output_type": "execute_result"
    }
   ],
   "source": [
    "1 + 1\n"
   ]
  },
  {
   "cell_type": "code",
   "execution_count": 3,
   "metadata": {},
   "outputs": [],
   "source": [
    "import json"
   ]
  },
  {
   "cell_type": "code",
   "execution_count": 4,
   "metadata": {},
   "outputs": [],
   "source": [
    "def get_column(schemas, ds_name, sorting_key = 'column_position'):\n",
    "    column_list = schemas[ds_name] \n",
    "    columns = sorted(column_list , key = lambda col : col[sorting_key]) \n",
    "    json_print(columns)\n",
    "    return [ col['column_name'] for col in columns ]"
   ]
  },
  {
   "cell_type": "code",
   "execution_count": 5,
   "metadata": {},
   "outputs": [],
   "source": [
    "def json_print(obj):\n",
    "    json_data = json.dumps(obj, indent=4)\n",
    "    print(json_data)"
   ]
  },
  {
   "cell_type": "code",
   "execution_count": 6,
   "metadata": {},
   "outputs": [],
   "source": [
    "schemas = json.load(open('data\\\\retail_db\\\\schemas.json'))\n",
    "json_data = json.dumps(schemas, indent=4)\n",
    "#print(json_data)\n",
    "\n",
    "x = schemas['orders']\n",
    "# json_print(x)\n",
    "# json_print(x[1])\n",
    "# for x1 in x : \n",
    "#     json_print(x1)\n"
   ]
  },
  {
   "cell_type": "code",
   "execution_count": 7,
   "metadata": {},
   "outputs": [
    {
     "name": "stdout",
     "output_type": "stream",
     "text": [
      "[\n",
      "    {\n",
      "        \"column_name\": \"order_id\",\n",
      "        \"data_type\": \"integer\",\n",
      "        \"column_position\": 1\n",
      "    },\n",
      "    {\n",
      "        \"column_name\": \"order_date\",\n",
      "        \"data_type\": \"string\",\n",
      "        \"column_position\": 2\n",
      "    },\n",
      "    {\n",
      "        \"column_name\": \"order_customer_id\",\n",
      "        \"data_type\": \"timestamp\",\n",
      "        \"column_position\": 3\n",
      "    },\n",
      "    {\n",
      "        \"column_name\": \"order_status\",\n",
      "        \"data_type\": \"string\",\n",
      "        \"column_position\": 4\n",
      "    }\n",
      "]\n",
      "['order_id', 'order_date', 'order_customer_id', 'order_status']\n"
     ]
    }
   ],
   "source": [
    "orders_columns = get_column(schemas, 'orders')\n",
    "print( orders_columns)"
   ]
  },
  {
   "cell_type": "code",
   "execution_count": 8,
   "metadata": {},
   "outputs": [],
   "source": [
    "import pandas as pd "
   ]
  },
  {
   "cell_type": "code",
   "execution_count": 9,
   "metadata": {},
   "outputs": [
    {
     "name": "stdout",
     "output_type": "stream",
     "text": [
      "       order_id             order_date  order_customer_id     order_status\n",
      "0             1  2013-07-25 00:00:00.0              11599           CLOSED\n",
      "1             2  2013-07-25 00:00:00.0                256  PENDING_PAYMENT\n",
      "2             3  2013-07-25 00:00:00.0              12111         COMPLETE\n",
      "3             4  2013-07-25 00:00:00.0               8827           CLOSED\n",
      "4             5  2013-07-25 00:00:00.0              11318         COMPLETE\n",
      "...         ...                    ...                ...              ...\n",
      "68878     68879  2014-07-09 00:00:00.0                778         COMPLETE\n",
      "68879     68880  2014-07-13 00:00:00.0               1117         COMPLETE\n",
      "68880     68881  2014-07-19 00:00:00.0               2518  PENDING_PAYMENT\n",
      "68881     68882  2014-07-22 00:00:00.0              10000          ON_HOLD\n",
      "68882     68883  2014-07-23 00:00:00.0               5533         COMPLETE\n",
      "\n",
      "[68883 rows x 4 columns]\n",
      "           1  2013-07-25 00:00:00.0  11599           CLOSED\n",
      "0          2  2013-07-25 00:00:00.0    256  PENDING_PAYMENT\n",
      "1          3  2013-07-25 00:00:00.0  12111         COMPLETE\n",
      "2          4  2013-07-25 00:00:00.0   8827           CLOSED\n",
      "3          5  2013-07-25 00:00:00.0  11318         COMPLETE\n",
      "4          6  2013-07-25 00:00:00.0   7130         COMPLETE\n",
      "...      ...                    ...    ...              ...\n",
      "68877  68879  2014-07-09 00:00:00.0    778         COMPLETE\n",
      "68878  68880  2014-07-13 00:00:00.0   1117         COMPLETE\n",
      "68879  68881  2014-07-19 00:00:00.0   2518  PENDING_PAYMENT\n",
      "68880  68882  2014-07-22 00:00:00.0  10000          ON_HOLD\n",
      "68881  68883  2014-07-23 00:00:00.0   5533         COMPLETE\n",
      "\n",
      "[68882 rows x 4 columns]\n"
     ]
    }
   ],
   "source": [
    "orders = pd.read_csv('data\\\\retail_db\\\\orders\\\\part-00000' , names = orders_columns )\n",
    "print(orders)\n",
    "orders = pd.read_csv('data\\\\retail_db\\\\orders\\\\part-00000')\n",
    "print(orders)"
   ]
  },
  {
   "cell_type": "code",
   "execution_count": 10,
   "metadata": {},
   "outputs": [
    {
     "name": "stdout",
     "output_type": "stream",
     "text": [
      "             1    1.1   957  1.2   299.98  299.98.1\n",
      "0            2      2  1073    1   199.99    199.99\n",
      "1            3      2   502    5   250.00     50.00\n",
      "2            4      2   403    1   129.99    129.99\n",
      "3            5      4   897    2    49.98     24.99\n",
      "4            6      4   365    5   299.95     59.99\n",
      "...        ...    ...   ...  ...      ...       ...\n",
      "164460  172194  68881   403    1   129.99    129.99\n",
      "164461  172195  68882   365    1    59.99     59.99\n",
      "164462  172196  68882   502    1    50.00     50.00\n",
      "164463  172197  68883   208    1  1999.99   1999.99\n",
      "164464  172198  68883   502    3   150.00     50.00\n",
      "\n",
      "[164465 rows x 6 columns]\n"
     ]
    }
   ],
   "source": [
    "x = r'D:\\codes_python_in_visual_studio_code\\data\\retail_db\\order_items\\part-00000'\n",
    "x = pd.read_csv(x) \n",
    "print(x)"
   ]
  },
  {
   "cell_type": "code",
   "execution_count": 11,
   "metadata": {},
   "outputs": [
    {
     "name": "stdout",
     "output_type": "stream",
     "text": [
      "dict_keys(['departments', 'categories', 'orders', 'products', 'customers', 'order_items'])\n"
     ]
    }
   ],
   "source": [
    "x = json.load(open('data\\\\retail_db\\\\schemas.json'))\n",
    "print(x.keys())"
   ]
  }
 ],
 "metadata": {
  "kernelspec": {
   "display_name": "Python 3",
   "language": "python",
   "name": "python3"
  },
  "language_info": {
   "codemirror_mode": {
    "name": "ipython",
    "version": 3
   },
   "file_extension": ".py",
   "mimetype": "text/x-python",
   "name": "python",
   "nbconvert_exporter": "python",
   "pygments_lexer": "ipython3",
   "version": "3.10.11"
  }
 },
 "nbformat": 4,
 "nbformat_minor": 2
}

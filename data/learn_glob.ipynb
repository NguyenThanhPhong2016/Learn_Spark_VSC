{
 "cells": [
  {
   "cell_type": "code",
   "execution_count": 35,
   "metadata": {},
   "outputs": [],
   "source": [
    "# from pyspark \n",
    "\n",
    "import glob "
   ]
  },
  {
   "cell_type": "code",
   "execution_count": null,
   "metadata": {},
   "outputs": [],
   "source": []
  },
  {
   "cell_type": "code",
   "execution_count": 36,
   "metadata": {},
   "outputs": [
    {
     "data": {
      "text/plain": [
       "['D:\\\\codes_python_in_visual_studio_code\\\\data']"
      ]
     },
     "execution_count": 36,
     "metadata": {},
     "output_type": "execute_result"
    }
   ],
   "source": [
    "glob.glob('D:\\codes_python_in_visual_studio_code\\data')"
   ]
  },
  {
   "cell_type": "code",
   "execution_count": 37,
   "metadata": {},
   "outputs": [
    {
     "data": {
      "text/plain": [
       "['D:\\\\codes_python_in_visual_studio_code\\\\data\\\\retail_db',\n",
       " 'D:\\\\codes_python_in_visual_studio_code\\\\data\\\\retail_db_json']"
      ]
     },
     "execution_count": 37,
     "metadata": {},
     "output_type": "execute_result"
    }
   ],
   "source": [
    "glob.glob('D:\\codes_python_in_visual_studio_code\\data/*')"
   ]
  },
  {
   "cell_type": "code",
   "execution_count": 38,
   "metadata": {},
   "outputs": [
    {
     "data": {
      "text/plain": [
       "['D:\\\\codes_python_in_visual_studio_code\\\\data\\\\retail_db\\\\categories',\n",
       " 'D:\\\\codes_python_in_visual_studio_code\\\\data\\\\retail_db\\\\customers',\n",
       " 'D:\\\\codes_python_in_visual_studio_code\\\\data\\\\retail_db\\\\departments',\n",
       " 'D:\\\\codes_python_in_visual_studio_code\\\\data\\\\retail_db\\\\orders',\n",
       " 'D:\\\\codes_python_in_visual_studio_code\\\\data\\\\retail_db\\\\order_items',\n",
       " 'D:\\\\codes_python_in_visual_studio_code\\\\data\\\\retail_db\\\\products',\n",
       " 'D:\\\\codes_python_in_visual_studio_code\\\\data\\\\retail_db\\\\schemas.json',\n",
       " 'D:\\\\codes_python_in_visual_studio_code\\\\data\\\\retail_db_json\\\\categories',\n",
       " 'D:\\\\codes_python_in_visual_studio_code\\\\data\\\\retail_db_json\\\\customers',\n",
       " 'D:\\\\codes_python_in_visual_studio_code\\\\data\\\\retail_db_json\\\\departments',\n",
       " 'D:\\\\codes_python_in_visual_studio_code\\\\data\\\\retail_db_json\\\\orders',\n",
       " 'D:\\\\codes_python_in_visual_studio_code\\\\data\\\\retail_db_json\\\\order_items',\n",
       " 'D:\\\\codes_python_in_visual_studio_code\\\\data\\\\retail_db_json\\\\products']"
      ]
     },
     "execution_count": 38,
     "metadata": {},
     "output_type": "execute_result"
    }
   ],
   "source": [
    "glob.glob('D:\\codes_python_in_visual_studio_code\\data/*/*')"
   ]
  },
  {
   "cell_type": "code",
   "execution_count": 39,
   "metadata": {},
   "outputs": [
    {
     "data": {
      "text/plain": [
       "['D:\\\\codes_python_in_visual_studio_code\\\\data\\\\retail_db\\\\categories',\n",
       " 'D:\\\\codes_python_in_visual_studio_code\\\\data\\\\retail_db\\\\customers',\n",
       " 'D:\\\\codes_python_in_visual_studio_code\\\\data\\\\retail_db\\\\departments',\n",
       " 'D:\\\\codes_python_in_visual_studio_code\\\\data\\\\retail_db\\\\orders',\n",
       " 'D:\\\\codes_python_in_visual_studio_code\\\\data\\\\retail_db\\\\order_items',\n",
       " 'D:\\\\codes_python_in_visual_studio_code\\\\data\\\\retail_db\\\\products',\n",
       " 'D:\\\\codes_python_in_visual_studio_code\\\\data\\\\retail_db\\\\schemas.json']"
      ]
     },
     "execution_count": 39,
     "metadata": {},
     "output_type": "execute_result"
    }
   ],
   "source": [
    "glob.glob('D:\\codes_python_in_visual_studio_code\\data/*_db/*')"
   ]
  },
  {
   "cell_type": "code",
   "execution_count": 40,
   "metadata": {},
   "outputs": [],
   "source": [
    "import pandas as pd"
   ]
  },
  {
   "cell_type": "code",
   "execution_count": 41,
   "metadata": {},
   "outputs": [
    {
     "name": "stdout",
     "output_type": "stream",
     "text": [
      "D:\\codes_python_in_visual_studio_code\\data\\retail_db\\categories\\part-00000\n",
      "Shape of D:\\codes_python_in_visual_studio_code\\data\\retail_db\\categories\\part-00000 is (58, 3)\n",
      "D:\\codes_python_in_visual_studio_code\\data\\retail_db\\customers\\part-00000\n",
      "Shape of D:\\codes_python_in_visual_studio_code\\data\\retail_db\\customers\\part-00000 is (12435, 9)\n",
      "D:\\codes_python_in_visual_studio_code\\data\\retail_db\\departments\\part-00000\n",
      "Shape of D:\\codes_python_in_visual_studio_code\\data\\retail_db\\departments\\part-00000 is (6, 2)\n",
      "D:\\codes_python_in_visual_studio_code\\data\\retail_db\\orders\\part-00000\n",
      "Shape of D:\\codes_python_in_visual_studio_code\\data\\retail_db\\orders\\part-00000 is (68883, 4)\n",
      "D:\\codes_python_in_visual_studio_code\\data\\retail_db\\order_items\\part-00000\n",
      "Shape of D:\\codes_python_in_visual_studio_code\\data\\retail_db\\order_items\\part-00000 is (164466, 6)\n",
      "D:\\codes_python_in_visual_studio_code\\data\\retail_db\\products\\part-00000\n",
      "Shape of D:\\codes_python_in_visual_studio_code\\data\\retail_db\\products\\part-00000 is (1345, 6)\n"
     ]
    }
   ],
   "source": [
    "\n",
    "for file_name in glob.glob('D:\\codes_python_in_visual_studio_code\\data/*_db/*/*'):    \n",
    "    print(file_name)\n",
    "    df = pd.read_csv(file_name , header = None )\n",
    "    print( f'Shape of {file_name} is {df.shape}' ) \n",
    "    #print(df)\n"
   ]
  },
  {
   "cell_type": "code",
   "execution_count": 42,
   "metadata": {},
   "outputs": [],
   "source": [
    "import re"
   ]
  },
  {
   "cell_type": "code",
   "execution_count": 43,
   "metadata": {},
   "outputs": [
    {
     "name": "stdout",
     "output_type": "stream",
     "text": [
      "./data/retail_db\\categories\n",
      "['.', 'data', 'retail_db', 'categories']\n",
      "./data/retail_db\\customers\n",
      "['.', 'data', 'retail_db', 'customers']\n",
      "./data/retail_db\\departments\n",
      "['.', 'data', 'retail_db', 'departments']\n",
      "./data/retail_db\\orders\n",
      "['.', 'data', 'retail_db', 'orders']\n",
      "./data/retail_db\\order_items\n",
      "['.', 'data', 'retail_db', 'order_items']\n",
      "./data/retail_db\\products\n",
      "['.', 'data', 'retail_db', 'products']\n",
      "./data/retail_db\\schemas.json\n",
      "['.', 'data', 'retail_db', 'schemas.json']\n"
     ]
    }
   ],
   "source": [
    "\n",
    "source_data = r'D:\\codes_python_in_visual_studio_code\\data\\retail_db' \n",
    "source_data = './' + 'data/retail_db/*' \n",
    "\n",
    "for file in glob.glob(source_data) :\n",
    "    print(file )\n",
    "    x = re.split('[/\\\\\\]', file) \n",
    "    print(x)\n",
    "\n",
    "\n",
    "\n"
   ]
  }
 ],
 "metadata": {
  "kernelspec": {
   "display_name": "Python 3",
   "language": "python",
   "name": "python3"
  },
  "language_info": {
   "codemirror_mode": {
    "name": "ipython",
    "version": 3
   },
   "file_extension": ".py",
   "mimetype": "text/x-python",
   "name": "python",
   "nbconvert_exporter": "python",
   "pygments_lexer": "ipython3",
   "version": "3.10.11"
  }
 },
 "nbformat": 4,
 "nbformat_minor": 2
}
